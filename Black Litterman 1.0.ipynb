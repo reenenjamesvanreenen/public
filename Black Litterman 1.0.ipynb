{
 "cells": [
  {
   "cell_type": "markdown",
   "metadata": {},
   "source": [
    "# The Black-Litterman Model"
   ]
  },
  {
   "cell_type": "code",
   "execution_count": 1,
   "metadata": {},
   "outputs": [],
   "source": [
    "# Numpy and Scipy libraries simplify matrix multiplication\n",
    "\n",
    "import scipy\n",
    "from numpy import array, linalg, identity"
   ]
  },
  {
   "cell_type": "code",
   "execution_count": 2,
   "metadata": {},
   "outputs": [],
   "source": [
    "# Define equilibrium weights, covariances and returns\n",
    "\n",
    "# Assets\n",
    "\n",
    "countries = array([['Australia','Canada   ','France   ','Germany  ','Japan    ','UK       ','USA      ']])\n",
    "\n",
    "# Equilibrium weights\n",
    "\n",
    "w_eq = array([0.016,0.022,0.052,0.055,0.116,0.124,0.615]) \n",
    "\n",
    "# Covariance matrix\n",
    "\n",
    "sigma = array([[0.025600,0.015850,0.018967,0.022330,0.014750,0.016384,0.014691],\n",
    "            [0.015850,0.041209,0.033428,0.036034,0.013215,0.024685,0.029572],\n",
    "            [0.018967,0.033428,0.061504,0.057866,0.018488,0.038837,0.030979],\n",
    "            [0.022330,0.036034,0.057866,0.073441,0.020146,0.042113,0.033092],\n",
    "            [0.014750,0.013215,0.018488,0.020146,0.044100,0.017010,0.012017],\n",
    "            [0.016384,0.024685,0.038837,0.042113,0.017010,0.040000,0.024385],\n",
    "            [0.014691,0.029572,0.030979,0.033092,0.012017,0.024385,0.034969]]) \n",
    "\n",
    "# Risk aversion\n",
    "\n",
    "delta = 2.5\n",
    "\n",
    "# Coefficient of uncertainty in prior estimate of pi\n",
    "\n",
    "tau = 0.05"
   ]
  },
  {
   "cell_type": "code",
   "execution_count": 3,
   "metadata": {},
   "outputs": [],
   "source": [
    "# View 1: Germany outperforms other assets by 5%\n",
    "# View 2: Canada outperforms the USA by 3%\n",
    "\n",
    "p = array([[0, 0, -.295, 1, 0, -.705, 0 ],[0, 1, 0, 0, 0, 0, -1]]).T\n",
    "q = array([[0.05,0.03]])"
   ]
  },
  {
   "cell_type": "markdown",
   "metadata": {},
   "source": [
    "Black-Litterman begins by calculating the equilibrium returns implied by current market conditions: $\\Pi = \\delta\\Sigma w_{eq}$, where:\n",
    "* $\\delta$ is a risk-aversion measure\n",
    "* $\\Sigma$ is a covariance matrix of excess returns\n",
    "* $w_{eq}$ are equilibrium weights"
   ]
  },
  {
   "cell_type": "code",
   "execution_count": 4,
   "metadata": {},
   "outputs": [],
   "source": [
    "def black_litterman(w_eq, sigma, delta, tau):\n",
    "    '''Takes equilibrium conditions and investor views and returns Black-Litterman portfolio weights'''\n",
    "    \n",
    "    '''Calculate equilibrium returns implied by the market'''\n",
    "    pi = array([(w_eq @ sigma) * delta])\n",
    "    \n",
    "    ''''''\n",
    "    omega = tau * (p.T @ (sigma @ p)) * identity(2)\n",
    "    \n",
    "    ''''''\n",
    "    e_r = pi.T + ((((tau * sigma) @ p) @ linalg.inv((tau * ((p.T @ sigma)) @ p) + omega)) @ (q.T - (p.T @ pi.T)))\n",
    "    \n",
    "    ''''''\n",
    "    sigma_p = sigma + tau * (sigma - (((sigma @ p) @ linalg.inv(tau* ((p.T @ sigma) @ p) + omega)) @ (tau * (p.T @ sigma))))\n",
    "    \n",
    "    ''''''\n",
    "    weights = linalg.inv(delta * sigma) @ e_r\n",
    "    \n",
    "    return weights"
   ]
  },
  {
   "cell_type": "code",
   "execution_count": 5,
   "metadata": {},
   "outputs": [
    {
     "name": "stdout",
     "output_type": "stream",
     "text": [
      "[[ 0.016     ]\n",
      " [ 0.43333175]\n",
      " [-0.03115361]\n",
      " [ 0.33687665]\n",
      " [ 0.116     ]\n",
      " [-0.07472304]\n",
      " [ 0.20366825]]\n"
     ]
    }
   ],
   "source": [
    "allocation = black_litterman(w_eq, sigma, delta, tau)\n",
    "print(allocation)"
   ]
  },
  {
   "cell_type": "code",
   "execution_count": null,
   "metadata": {},
   "outputs": [],
   "source": []
  }
 ],
 "metadata": {
  "kernelspec": {
   "display_name": "Python 3",
   "language": "python",
   "name": "python3"
  },
  "language_info": {
   "codemirror_mode": {
    "name": "ipython",
    "version": 3
   },
   "file_extension": ".py",
   "mimetype": "text/x-python",
   "name": "python",
   "nbconvert_exporter": "python",
   "pygments_lexer": "ipython3",
   "version": "3.6.5"
  }
 },
 "nbformat": 4,
 "nbformat_minor": 2
}
